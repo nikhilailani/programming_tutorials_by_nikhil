{
 "cells": [
  {
   "cell_type": "markdown",
   "id": "7f90cc5e",
   "metadata": {},
   "source": [
    "# Dynamic Programming"
   ]
  },
  {
   "cell_type": "markdown",
   "id": "bc75a1ce",
   "metadata": {},
   "source": [
    "### 1. Longest Common Subsequence"
   ]
  },
  {
   "cell_type": "code",
   "execution_count": 2,
   "id": "fd2c4132",
   "metadata": {},
   "outputs": [
    {
     "name": "stdout",
     "output_type": "stream",
     "text": [
      "Length of LCS is  4\n"
     ]
    }
   ],
   "source": [
    "def lcs(s1 , s2):\n",
    "    m, n = len(s1), len(s2)\n",
    "    prev, cur = [0]*(n+1), [0]*(n+1)\n",
    "    for i in range(1, m+1):\n",
    "        for j in range(1, n+1):\n",
    "            if s1[i-1] == s2[j-1]:\n",
    "                cur[j] = 1 + prev[j-1]\n",
    "            else:\n",
    "                if cur[j-1] > prev[j]:\n",
    "                   cur[j] = cur[j-1]\n",
    "                else:\n",
    "                   cur[j] = prev[j]\n",
    "        cur, prev = prev, cur\n",
    "    return prev[n] \n",
    "\n",
    "s1 = \"AGGTAB\"\n",
    "s2 = \"GXTXAYB\"\n",
    "print(\"Length of LCS is \", lcs(s1, s2))"
   ]
  },
  {
   "cell_type": "markdown",
   "id": "981e468b",
   "metadata": {},
   "source": [
    "### 2. Longest Increasing Subsequence"
   ]
  },
  {
   "cell_type": "code",
   "execution_count": 4,
   "id": "827027b2",
   "metadata": {},
   "outputs": [
    {
     "name": "stdout",
     "output_type": "stream",
     "text": [
      "Length of lis is 5\n"
     ]
    }
   ],
   "source": [
    "def lis(arr):\n",
    "    n = len(arr)\n",
    "    lis = [1]*n\n",
    " \n",
    "    for i in range(1, n):\n",
    "        for j in range(0, i):\n",
    "            if arr[i] > arr[j] and lis[i] < lis[j] + 1:\n",
    "                lis[i] = lis[j]+1\n",
    " \n",
    "    maximum = 0\n",
    " \n",
    "    for i in range(n):\n",
    "        maximum = max(maximum, lis[i])\n",
    " \n",
    "    return maximum\n",
    "\n",
    "# Driver program\n",
    "arr = [10, 22, 9, 33, 21, 50, 41, 60]\n",
    "print(\"Length of lis is\", lis(arr))"
   ]
  },
  {
   "cell_type": "markdown",
   "id": "56136483",
   "metadata": {},
   "source": [
    "### 3. Edit Distance"
   ]
  },
  {
   "cell_type": "code",
   "execution_count": 6,
   "id": "8296f455",
   "metadata": {},
   "outputs": [
    {
     "name": "stdout",
     "output_type": "stream",
     "text": [
      "3\n"
     ]
    }
   ],
   "source": [
    "def editDistDP(str1, str2, m, n):\n",
    "    dp = [[0 for x in range(n + 1)] for x in range(m + 1)]\n",
    "  \n",
    "    for i in range(m + 1):\n",
    "        for j in range(n + 1):\n",
    "  \n",
    "            if i == 0:\n",
    "                dp[i][j] = j\n",
    "  \n",
    "            elif j == 0:\n",
    "                dp[i][j] = i\n",
    "  \n",
    "            elif str1[i-1] == str2[j-1]:\n",
    "                dp[i][j] = dp[i-1][j-1]\n",
    "  \n",
    "            else:\n",
    "                dp[i][j] = 1 + min(dp[i][j-1],        # Insert\n",
    "                                   dp[i-1][j],        # Remove\n",
    "                                   dp[i-1][j-1])    # Replace\n",
    "  \n",
    "    return dp[m][n]\n",
    "\n",
    "# Driver code\n",
    "str1 = \"sunday\"\n",
    "str2 = \"saturday\"\n",
    "  \n",
    "print(editDistDP(str1, str2, len(str1), len(str2)))"
   ]
  },
  {
   "cell_type": "markdown",
   "id": "3c6ed982",
   "metadata": {},
   "source": [
    "### 4. Partition a set into two most equal subsets"
   ]
  },
  {
   "cell_type": "code",
   "execution_count": 9,
   "id": "35aed2ba",
   "metadata": {},
   "outputs": [
    {
     "name": "stdout",
     "output_type": "stream",
     "text": [
      "The Minimum difference of 2 sets is  1\n"
     ]
    }
   ],
   "source": [
    "def minDifference(arr, n):\n",
    "    sum = 0;\n",
    "    for i in range(n):\n",
    "        sum += arr[i];\n",
    "    y = sum // 2 + 1;\n",
    "\n",
    "    dp = [False for i in range(y)]\n",
    "    dd = [False for i in range(y)]\n",
    "\n",
    "    dd[0] = True;\n",
    "    for i in range(n):\n",
    "        for j in range(y):\n",
    "            if (j + arr[i] < y and dp[j]):\n",
    "                dd[j + arr[i]] = True\n",
    "         \n",
    "        for j in range(y):\n",
    "            if (dd[j]):\n",
    "                dp[j] = True\n",
    "            dd[j] = False\n",
    "\n",
    "    for i in range(y-1, 0, -1):\n",
    "        if (dp[i]):\n",
    "            return (sum - 2 * i)\n",
    "\n",
    "    return 0;\n",
    " \n",
    "arr = [ 1, 6, 11, 5 ]\n",
    "n = len(arr);\n",
    "print(\"The Minimum difference of 2 sets is \", minDifference(arr, n))"
   ]
  },
  {
   "cell_type": "markdown",
   "id": "19930396",
   "metadata": {},
   "source": [
    "### 5. Number of ways to cover a distance"
   ]
  },
  {
   "cell_type": "code",
   "execution_count": 10,
   "id": "ad6db003",
   "metadata": {},
   "outputs": [
    {
     "name": "stdout",
     "output_type": "stream",
     "text": [
      "7\n"
     ]
    }
   ],
   "source": [
    "def prCountDP( dist):\n",
    "        ways = [0]*3\n",
    "        n = dist\n",
    "\n",
    "        ways[0] = 1\n",
    "        ways[1] = 1\n",
    "        ways[2] = 2\n",
    "\n",
    "        for i in range(3, n + 1):\n",
    "            ways[i % 3] = ways[(i - 1) % 3] + ways[(i - 2) % 3] + ways[(i - 3) % 3]\n",
    "\n",
    "        return ways[n % 3]\n",
    "  \n",
    "# Driver program\n",
    "dist = 4\n",
    "print(prCountDP(dist))"
   ]
  },
  {
   "cell_type": "markdown",
   "id": "87100990",
   "metadata": {},
   "source": [
    "### 6. Longest path in a matrix"
   ]
  },
  {
   "cell_type": "code",
   "execution_count": 12,
   "id": "ff5418c4",
   "metadata": {},
   "outputs": [
    {
     "name": "stdout",
     "output_type": "stream",
     "text": [
      "Length of the longest path is  4\n"
     ]
    }
   ],
   "source": [
    "n = 3\n",
    "\n",
    "def findLongestFromACell(i, j, mat, dp):\n",
    "    if (i<0 or i>= n or j<0 or j>= n):\n",
    "        return 0\n",
    " \n",
    "    if (dp[i][j] != -1):\n",
    "        return dp[i][j]\n",
    " \n",
    "    x, y, z, w = -1, -1, -1, -1\n",
    " \n",
    "    if (j<n-1 and ((mat[i][j] +1) == mat[i][j + 1])):\n",
    "        x = 1 + findLongestFromACell(i, j + 1, mat, dp)\n",
    " \n",
    "    if (j>0 and (mat[i][j] +1 == mat[i][j-1])):\n",
    "        y = 1 + findLongestFromACell(i, j-1, mat, dp)\n",
    " \n",
    "    if (i>0 and (mat[i][j] +1 == mat[i-1][j])):\n",
    "        z = 1 + findLongestFromACell(i-1, j, mat, dp)\n",
    " \n",
    "    if (i<n-1 and (mat[i][j] +1 == mat[i + 1][j])):\n",
    "        w = 1 + findLongestFromACell(i + 1, j, mat, dp)\n",
    " \n",
    "    dp[i][j] = max(x, max(y, max(z, max(w, 1))))\n",
    "    return dp[i][j]\n",
    " \n",
    "\n",
    "def finLongestOverAll(mat):\n",
    "    result = 1\n",
    " \n",
    "    dp =[[-1 for i in range(n)]for i in range(n)]\n",
    " \n",
    "    for i in range(n):\n",
    "        for j in range(n):\n",
    "            if (dp[i][j] == -1):\n",
    "                findLongestFromACell(i, j, mat, dp)\n",
    "            result = max(result, dp[i][j]);\n",
    "    return result\n",
    " \n",
    "# Driver program\n",
    "mat = [[1, 2, 9],\n",
    "    [5, 3, 8],\n",
    "    [4, 6, 7]]\n",
    "print(\"Length of the longest path is \", finLongestOverAll(mat))"
   ]
  },
  {
   "cell_type": "markdown",
   "id": "314d3f53",
   "metadata": {},
   "source": [
    "### 7. Subset Sum Problem"
   ]
  },
  {
   "cell_type": "code",
   "execution_count": 13,
   "id": "69cc63db",
   "metadata": {},
   "outputs": [
    {
     "name": "stdout",
     "output_type": "stream",
     "text": [
      "YES\n"
     ]
    }
   ],
   "source": [
    "tab = [[-1 for i in range(2000)] for j in range(2000)]\n",
    "\n",
    "def subsetSum(a, n, sum):\n",
    "    if (sum == 0):\n",
    "        return 1\n",
    "     \n",
    "    if (n <= 0):\n",
    "        return 0\n",
    "\n",
    "    if (tab[n - 1][sum] != -1):\n",
    "        return tab[n - 1][sum]\n",
    "\n",
    "    if (a[n - 1] > sum):\n",
    "        tab[n - 1][sum] = subsetSum(a, n - 1, sum)\n",
    "        return tab[n - 1][sum]\n",
    "    else:\n",
    "        tab[n - 1][sum] = subsetSum(a, n - 1, sum)\n",
    "        return tab[n - 1][sum] or subsetSum(a, n - 1, sum - a[n - 1])\n",
    "\n",
    "# Driver Code\n",
    "n = 5\n",
    "a = [1, 5, 3, 7, 4]\n",
    "sum = 12\n",
    " \n",
    "print(\"YES\" if subsetSum(a, n, sum) else \"NO\")"
   ]
  },
  {
   "cell_type": "markdown",
   "id": "58216549",
   "metadata": {},
   "source": [
    "### 8. 0-1 Knapsack Problem"
   ]
  },
  {
   "cell_type": "code",
   "execution_count": 14,
   "id": "912b0346",
   "metadata": {},
   "outputs": [
    {
     "name": "stdout",
     "output_type": "stream",
     "text": [
      "220\n"
     ]
    }
   ],
   "source": [
    "def knapSack(W, wt, val, n):\n",
    "    K = [[0 for x in range(W + 1)] for x in range(n + 1)]\n",
    " \n",
    "    for i in range(n + 1):\n",
    "        for w in range(W + 1):\n",
    "\n",
    "            if i == 0 or w == 0:\n",
    "                K[i][w] = 0\n",
    "\n",
    "            elif wt[i-1] <= w:\n",
    "                K[i][w] = max(val[i-1] + K[i-1][w-wt[i-1]], K[i-1][w])\n",
    "\n",
    "            else:\n",
    "                K[i][w] = K[i-1][w]\n",
    " \n",
    "    return K[n][W]\n",
    "\n",
    "# Driver code\n",
    "val = [60, 100, 120]\n",
    "wt = [10, 20, 30]\n",
    "W = 50\n",
    "n = len(val)\n",
    "print(knapSack(W, wt, val, n))"
   ]
  }
 ],
 "metadata": {
  "kernelspec": {
   "display_name": "Python 3 (ipykernel)",
   "language": "python",
   "name": "python3"
  },
  "language_info": {
   "codemirror_mode": {
    "name": "ipython",
    "version": 3
   },
   "file_extension": ".py",
   "mimetype": "text/x-python",
   "name": "python",
   "nbconvert_exporter": "python",
   "pygments_lexer": "ipython3",
   "version": "3.8.10"
  }
 },
 "nbformat": 4,
 "nbformat_minor": 5
}
